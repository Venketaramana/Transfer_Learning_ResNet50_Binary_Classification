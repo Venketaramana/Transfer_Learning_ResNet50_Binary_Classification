{
 "cells": [
  {
   "cell_type": "markdown",
   "metadata": {},
   "source": [
    "# Binary Classification - Transfer Learning with ResNet50\n",
    "---\n",
    "\n",
    "#### Step 0.0 : Initialize Dependencies"
   ]
  },
  {
   "cell_type": "code",
   "execution_count": 39,
   "metadata": {},
   "outputs": [
    {
     "name": "stdout",
     "output_type": "stream",
     "text": [
      "CUDA version:\n",
      "nvcc: NVIDIA (R) Cuda compiler driver\n",
      "Copyright (c) 2005-2020 NVIDIA Corporation\n",
      "Built on Wed_Jul_22_19:09:09_PDT_2020\n",
      "Cuda compilation tools, release 11.0, V11.0.221\n",
      "Build cuda_11.0_bu.TC445_37.28845127_0\n",
      "\n",
      "TensorFlow version: 1.14.0\n",
      "\n",
      "OpenCV version: 4.5.1\n",
      "\n",
      "Successful!\n",
      "directories exists...\n",
      "Please place the binary data meant for classifications into the respective folders in data/class1 and data/class2\n",
      "Eg. Dogs and Cats classification. Place Dogs in class1 folder and Cats into class2 folder\n"
     ]
    }
   ],
   "source": [
    "#CUDA driver verison: 10.1.243\n",
    "#TensorFlow: 1.14.0\n",
    "#OpenCV version: 4.5.1\n",
    "import tensorflow as tf\n",
    "from tensorflow import keras\n",
    "import cv2\n",
    "import matplotlib.pyplot as plt\n",
    "import numpy as np\n",
    "np.set_printoptions(threshold=np.inf)\n",
    "import os\n",
    "from datetime import datetime\n",
    "import pandas as pd\n",
    "import tkinter as tk\n",
    "import tkinter.filedialog\n",
    "from sklearn.model_selection import train_test_split\n",
    "\n",
    "%matplotlib inline\n",
    "print(\"CUDA version:\")\n",
    "!nvcc --version\n",
    "print(\"\\nTensorFlow version:\", tf.__version__)\n",
    "print(\"\\nOpenCV version:\", cv2.__version__)\n",
    "print(\"\\nSuccessful!\")\n",
    "\n",
    "try:\n",
    "    os.makedirs(\"./data\")\n",
    "    os.makedirs(\"./data/class1\")\n",
    "    os.makedirs(\"./data/class2\")\n",
    "    print(\"creating directories...\")\n",
    "    print(\"done...\")\n",
    "except:\n",
    "    print(\"directories exists...\")\n",
    "    \n",
    "print(\"Please place the binary data meant for classifications into the respective folders in data/class1 and data/class2\")\n",
    "print(\"Eg. Dogs and Cats classification. Place Dogs in class1 folder and Cats into class2 folder\")"
   ]
  },
  {
   "cell_type": "markdown",
   "metadata": {},
   "source": [
    "# 1.0 Data Pre-Processing\n",
    "---\n",
    "\n",
    "#### 1.1 : Basic image processing, cropping and resizing"
   ]
  },
  {
   "cell_type": "code",
   "execution_count": 40,
   "metadata": {},
   "outputs": [],
   "source": [
    "def process_grayscale(img, contrast=1.1, brightness=-120, style=\"square\"):\n",
    "    if style.lower() == \"increased_width\":\n",
    "        x0 = 300\n",
    "        y0 = 150\n",
    "        x1 = -160\n",
    "        y1 = -50\n",
    "        cropped_img = img[y0:y1, x0:x1]\n",
    "\n",
    "        scalling_factor = 3\n",
    "        height, width = cropped_img.shape[0], cropped_img.shape[1]\n",
    "        new_dims = int(width / scalling_factor), int(height / scalling_factor)\n",
    "        resized_img = cv2.resize(cropped_img, new_dims)\n",
    "        \n",
    "    elif style.lower() == \"square\":\n",
    "        x0 = 350\n",
    "        y0 = 180\n",
    "        x1 = -150\n",
    "#         y1 = -1 #-100 if class_folder == \"Defected\" else -50\n",
    "        cropped_img = img[y0:, x0:x1]\n",
    "        resized_img = cv2.resize(cropped_img, (224, 224)) # Xception NN\n",
    "\n",
    "#     final_img = cv2.convertScaleAbs(resized_img, alpha=contrast, beta=brightness)\n",
    "    return resized_img"
   ]
  },
  {
   "cell_type": "markdown",
   "metadata": {},
   "source": [
    "#### 1.2 : Convert the image dataset into NumPy array"
   ]
  },
  {
   "cell_type": "code",
   "execution_count": 41,
   "metadata": {},
   "outputs": [],
   "source": [
    "#the following function reads the dataset images saves them into NumPy arrays\n",
    "def generate_dataset(data_path, oneToOne):\n",
    "    date_time = datetime.today().strftime(\"%Y%m%d_%H%M\")\n",
    "    model_used = \"ResNet50\"\n",
    "\n",
    "    X = []\n",
    "    Y = []\n",
    "    CLASSES = [\"class1\", \"class2\"]\n",
    "\n",
    "    main_data_path = data_path\n",
    "    for class_folder in os.listdir(main_data_path): # class1 , class2\n",
    "\n",
    "        class_path = os.path.join(main_data_path, class_folder) #\n",
    "        if class_folder.lower() == CLASSES[0].lower():\n",
    "            num_c1 = len(os.listdir(class_path))\n",
    "        elif class_folder.lower() == CLASSES[1].lower():\n",
    "            num_c2 = len(os.listdir(class_path))\n",
    "\n",
    "        i = 0 # maximum number of samples\n",
    "        for img_file in os.listdir(class_path):\n",
    "            print('processing...')\n",
    "            img_path = os.path.join(class_path, img_file)\n",
    "            img = cv2.imread(img_path)\n",
    "            img_rgb = cv2.cvtColor(img, cv2.COLOR_BGR2RGB)\n",
    "            style=\"square\"\n",
    "            final_img = process_grayscale(img_rgb)\n",
    "            #plt.imshow(final_img, cmap='gray')\n",
    "            #plt.show()\n",
    "\n",
    "            X.append(final_img)\n",
    "            Y.append(CLASSES.index(class_folder))\n",
    "\n",
    "            i += 1\n",
    "            if oneToOne and i == num_c2:\n",
    "                break\n",
    "\n",
    "    if oneToOne:\n",
    "        num_c2 = i\n",
    "        print(\"equal dataset\")\n",
    "    else:\n",
    "        print(\"unequal dataset\")\n",
    "    assert len(X) == len(Y)\n",
    "    images, labels = np.array(X, dtype=float), np.array(Y)\n",
    "    assert images.shape[0] == labels.shape[0]\n",
    "\n",
    "\n",
    "    print(\"Image dimensions (after processing): \", images[0].shape)\n",
    "\n",
    "    print(\"Number of samples: \", len(X))\n",
    "    m_all_c1, m_all_c2 = np.bincount(Y)[0], np.bincount(Y)[1]\n",
    "    print(\"Amount of Class1 samples: \", m_all_c1)\n",
    "    print(\"Amount of Class2 samples: \", m_all_c2)\n",
    "    print(\"Ratio of Class1 to Class2 samples: 1/\", int(np.round(m_all_c2/m_all_c1)), sep='')\n",
    "    \n",
    "    try:\n",
    "        os.makedirs(\"./processed_data\")\n",
    "        print(\"creating directory...\")\n",
    "        np.save(\"processed_data/Square224imagesRGB\" + date_time  + \"_\" + style + \"_\" + str(num_c1) + \"-\" + str(num_c2) + \"_\" + model_used + \".npy\", images)\n",
    "        np.save(\"processed_data/Square224labelsRGB\" + date_time  + \"_\" + style + \"_\" + str(num_c1) + \"-\" + str(num_c2) + \"_\" + model_used + \".npy\", labels)\n",
    "    except:\n",
    "        print(\"folder exists...\")\n",
    "        np.save(\"processed_data/Square224imagesRGB\" + date_time  + \"_\" + style + \"_\" + str(num_c1) + \"-\" + str(num_c2) + \"_\" + model_used + \".npy\", images)\n",
    "        np.save(\"processed_data/Square224labelsRGB\" + date_time  + \"_\" + style + \"_\" + str(num_c1) + \"-\" + str(num_c2) + \"_\" + model_used + \".npy\", labels)\n",
    "\n",
    "    print(\"\\n\\nSaved!\")"
   ]
  },
  {
   "cell_type": "markdown",
   "metadata": {},
   "source": [
    "#### 1.3: The code below will prompt to select the data folder. Select the folder containing the class folders"
   ]
  },
  {
   "cell_type": "code",
   "execution_count": 43,
   "metadata": {
    "scrolled": true
   },
   "outputs": [
    {
     "name": "stdout",
     "output_type": "stream",
     "text": [
      "Choosen folder: /home/venket/Projects/Machine_Learning/Transfer_Learning_ResNet50_Binary_Classification/data\n",
      "\n",
      "\n",
      "processing...\n",
      "processing...\n",
      "processing...\n",
      "processing...\n",
      "processing...\n",
      "processing...\n",
      "processing...\n",
      "processing...\n",
      "unequal dataset\n",
      "Image dimensions (after processing):  (224, 224, 3)\n",
      "Number of samples:  8\n",
      "Amount of Class1 samples:  4\n",
      "Amount of Class2 samples:  4\n",
      "Ratio of Class1 to Class2 samples: 1/1\n",
      "creating directory...\n",
      "\n",
      "\n",
      "Saved!\n"
     ]
    }
   ],
   "source": [
    "root = tk.Tk()\n",
    "main_images_folder = tkinter.filedialog.askdirectory()\n",
    "root.destroy()\n",
    "print(\"Choosen folder:\", main_images_folder + \"\\n\\n\")\n",
    "data_path = main_images_folder\n",
    "oneToOne = False #if dataset is equal for both classes change to True\n",
    "generate_dataset(data_path, oneToOne)"
   ]
  },
  {
   "cell_type": "markdown",
   "metadata": {},
   "source": [
    "# 3.0 Loading and data preparation\n",
    "---\n",
    "\n",
    "#### 3.1 : Loading the processed data and perform train - test split\n",
    "#### (The train test split is performed twice to split them into train, test and validation set"
   ]
  },
  {
   "cell_type": "code",
   "execution_count": 44,
   "metadata": {
    "scrolled": true
   },
   "outputs": [
    {
     "name": "stdout",
     "output_type": "stream",
     "text": [
      "Image dimensions (after processing):  (224, 224, 3)\n",
      "Number of samples:  8\n",
      "Amount of Class1 samples:  4\n",
      "Amount of Class2 samples:  4\n",
      "Ratio of Class1 to Class2 samples: 1/1\n",
      "Sanity Check\n",
      "\n",
      "\n",
      "Training, Class1:2, Class2: 2\n",
      "Validation, Class1:1, Class2: 1\n",
      "Testing, Class1:1, Class2: 1\n",
      "[1 1]\n",
      "[1 0 1 0]\n",
      "[0 1]\n",
      "[0 1]\n",
      "[0]\n",
      "Done!\n"
     ]
    }
   ],
   "source": [
    "root = tk.Tk()\n",
    "processed_images_file = tkinter.filedialog.askopenfilename(title=\"Select the generated processed images file (NumPy array file)\", initialdir=\"./processed_data\")\n",
    "processed_labels_file = tkinter.filedialog.askopenfilename(title=\"Select the generated processed labels file (NumPy array file)\", initialdir=\"./processed_data\")\n",
    "root.destroy()\n",
    "\n",
    "images = np.load(processed_images_file)\n",
    "# images = np.expand_dims(orig_images, axis=-1) ## Only needed if grayscale\n",
    "labels = np.load(processed_labels_file)\n",
    "\n",
    "CLASSES = [\"class1\", \"class2\"]\n",
    "\n",
    "print(\"Image dimensions (after processing): \", images[0].shape)\n",
    "print(\"Number of samples: \", len(images))\n",
    "m_all_c1, m_all_c2 = np.bincount(labels)[0], np.bincount(labels)[1]\n",
    "print(\"Amount of Class1 samples: \", m_all_c1)\n",
    "print(\"Amount of Class2 samples: \", m_all_c2)\n",
    "print(\"Ratio of Class1 to Class2 samples: 1/\", int(np.round(m_all_c2/m_all_c1)), sep='')\n",
    "\n",
    "processed_input = keras.applications.resnet50.preprocess_input(images)\n",
    "non_test_images, test_images, non_test_labels, test_labels = train_test_split(processed_input, labels, test_size=0.2, shuffle=True,\n",
    "                                                                        stratify=labels, random_state=51)\n",
    "train_images, valid_images, train_labels, valid_labels = train_test_split(non_test_images, non_test_labels,\n",
    "                                                                        test_size=0.2, shuffle=True,\n",
    "                                                                        stratify=non_test_labels, random_state=51)\n",
    "\n",
    "idx = np.random.permutation(np.bincount(train_labels)[0])\n",
    "x_newtr_img,y_newtr_labels = train_images[idx], train_labels[idx]\n",
    "idx2 = np.random.permutation(np.bincount(valid_labels)[0])\n",
    "x_newvl_img,y_newvl_labels = valid_images[idx2], valid_labels[idx2]\n",
    "assert train_images.shape[0] == train_labels.shape[0]\n",
    "assert valid_images.shape[0] == valid_labels.shape[0]\n",
    "assert test_images.shape[0] == test_labels.shape[0]\n",
    "\n",
    "#assert x_newtr_img[0] == y_newtr_labels[0]\n",
    "#assert x_newvl_img[0] == y_newvl_labels[0]\n",
    "m_train_c1, m_train_c2 = np.bincount(train_labels)[0], np.bincount(train_labels)[1]\n",
    "m_valid_c1, m_valid_c2 = np.bincount(valid_labels)[0], np.bincount(valid_labels)[1]\n",
    "m_test_c1, m_test_c2 = np.bincount(test_labels)[0], np.bincount(test_labels)[1]\n",
    "print(\"Sanity Check\")\n",
    "print(f\"\\n\\nTraining, Class1:{m_train_c1}, Class2: {m_train_c2}\")\n",
    "print(f\"Validation, Class1:{m_valid_c1}, Class2: {m_valid_c2}\")\n",
    "print(f\"Testing, Class1:{m_test_c1}, Class2: {m_test_c2}\")\n",
    "print(np.bincount(valid_labels))  # sanity check\n",
    "print(train_labels)\n",
    "print(valid_labels)\n",
    "print(y_newtr_labels)\n",
    "print(y_newvl_labels)\n",
    "\n",
    "\n",
    "print(\"Done!\")"
   ]
  },
  {
   "cell_type": "code",
   "execution_count": 48,
   "metadata": {},
   "outputs": [],
   "source": [
    "#Sanity Check - Error Check\n",
    "#np.count_nonzero(test_labels == 0)\n",
    "#plt.imshow(train_images[0], cmap='gray')\n",
    "#plt.imshow(valid_images[22], cmap='gray')"
   ]
  },
  {
   "cell_type": "markdown",
   "metadata": {},
   "source": [
    "# 4.0 Building a the Transfer Learning Convolutional Neural Network\n",
    "---\n",
    "#### 4.1 : Download pre-trained weights and Compile the Transfer Learning ResNet50 architecture"
   ]
  },
  {
   "cell_type": "code",
   "execution_count": 45,
   "metadata": {},
   "outputs": [
    {
     "name": "stderr",
     "output_type": "stream",
     "text": [
      "/home/venket/anaconda3/envs/binclass/lib/python3.7/site-packages/keras_applications/resnet50.py:265: UserWarning: The output shape of `ResNet50(include_top=False)` has been changed since Keras 2.2.0.\n",
      "  warnings.warn('The output shape of `ResNet50(include_top=False)` '\n"
     ]
    }
   ],
   "source": [
    "base_model = keras.applications.resnet50.ResNet50(weights=\"imagenet\", include_top=False)\n",
    "avg = keras.layers.GlobalAveragePooling2D()(base_model.output)\n",
    "output = keras.layers.Dense(1, activation=\"sigmoid\")(avg)\n",
    "model = keras.Model(inputs=base_model.input, outputs=output)"
   ]
  },
  {
   "cell_type": "code",
   "execution_count": 46,
   "metadata": {},
   "outputs": [
    {
     "name": "stdout",
     "output_type": "stream",
     "text": [
      "Model: \"model_1\"\n",
      "__________________________________________________________________________________________________\n",
      "Layer (type)                    Output Shape         Param #     Connected to                     \n",
      "==================================================================================================\n",
      "input_2 (InputLayer)            [(None, None, None,  0                                            \n",
      "__________________________________________________________________________________________________\n",
      "conv1_pad (ZeroPadding2D)       (None, None, None, 3 0           input_2[0][0]                    \n",
      "__________________________________________________________________________________________________\n",
      "conv1 (Conv2D)                  (None, None, None, 6 9472        conv1_pad[0][0]                  \n",
      "__________________________________________________________________________________________________\n",
      "bn_conv1 (BatchNormalization)   (None, None, None, 6 256         conv1[0][0]                      \n",
      "__________________________________________________________________________________________________\n",
      "activation_49 (Activation)      (None, None, None, 6 0           bn_conv1[0][0]                   \n",
      "__________________________________________________________________________________________________\n",
      "pool1_pad (ZeroPadding2D)       (None, None, None, 6 0           activation_49[0][0]              \n",
      "__________________________________________________________________________________________________\n",
      "max_pooling2d_1 (MaxPooling2D)  (None, None, None, 6 0           pool1_pad[0][0]                  \n",
      "__________________________________________________________________________________________________\n",
      "res2a_branch2a (Conv2D)         (None, None, None, 6 4160        max_pooling2d_1[0][0]            \n",
      "__________________________________________________________________________________________________\n",
      "bn2a_branch2a (BatchNormalizati (None, None, None, 6 256         res2a_branch2a[0][0]             \n",
      "__________________________________________________________________________________________________\n",
      "activation_50 (Activation)      (None, None, None, 6 0           bn2a_branch2a[0][0]              \n",
      "__________________________________________________________________________________________________\n",
      "res2a_branch2b (Conv2D)         (None, None, None, 6 36928       activation_50[0][0]              \n",
      "__________________________________________________________________________________________________\n",
      "bn2a_branch2b (BatchNormalizati (None, None, None, 6 256         res2a_branch2b[0][0]             \n",
      "__________________________________________________________________________________________________\n",
      "activation_51 (Activation)      (None, None, None, 6 0           bn2a_branch2b[0][0]              \n",
      "__________________________________________________________________________________________________\n",
      "res2a_branch2c (Conv2D)         (None, None, None, 2 16640       activation_51[0][0]              \n",
      "__________________________________________________________________________________________________\n",
      "res2a_branch1 (Conv2D)          (None, None, None, 2 16640       max_pooling2d_1[0][0]            \n",
      "__________________________________________________________________________________________________\n",
      "bn2a_branch2c (BatchNormalizati (None, None, None, 2 1024        res2a_branch2c[0][0]             \n",
      "__________________________________________________________________________________________________\n",
      "bn2a_branch1 (BatchNormalizatio (None, None, None, 2 1024        res2a_branch1[0][0]              \n",
      "__________________________________________________________________________________________________\n",
      "add_16 (Add)                    (None, None, None, 2 0           bn2a_branch2c[0][0]              \n",
      "                                                                 bn2a_branch1[0][0]               \n",
      "__________________________________________________________________________________________________\n",
      "activation_52 (Activation)      (None, None, None, 2 0           add_16[0][0]                     \n",
      "__________________________________________________________________________________________________\n",
      "res2b_branch2a (Conv2D)         (None, None, None, 6 16448       activation_52[0][0]              \n",
      "__________________________________________________________________________________________________\n",
      "bn2b_branch2a (BatchNormalizati (None, None, None, 6 256         res2b_branch2a[0][0]             \n",
      "__________________________________________________________________________________________________\n",
      "activation_53 (Activation)      (None, None, None, 6 0           bn2b_branch2a[0][0]              \n",
      "__________________________________________________________________________________________________\n",
      "res2b_branch2b (Conv2D)         (None, None, None, 6 36928       activation_53[0][0]              \n",
      "__________________________________________________________________________________________________\n",
      "bn2b_branch2b (BatchNormalizati (None, None, None, 6 256         res2b_branch2b[0][0]             \n",
      "__________________________________________________________________________________________________\n",
      "activation_54 (Activation)      (None, None, None, 6 0           bn2b_branch2b[0][0]              \n",
      "__________________________________________________________________________________________________\n",
      "res2b_branch2c (Conv2D)         (None, None, None, 2 16640       activation_54[0][0]              \n",
      "__________________________________________________________________________________________________\n",
      "bn2b_branch2c (BatchNormalizati (None, None, None, 2 1024        res2b_branch2c[0][0]             \n",
      "__________________________________________________________________________________________________\n",
      "add_17 (Add)                    (None, None, None, 2 0           bn2b_branch2c[0][0]              \n",
      "                                                                 activation_52[0][0]              \n",
      "__________________________________________________________________________________________________\n",
      "activation_55 (Activation)      (None, None, None, 2 0           add_17[0][0]                     \n",
      "__________________________________________________________________________________________________\n",
      "res2c_branch2a (Conv2D)         (None, None, None, 6 16448       activation_55[0][0]              \n",
      "__________________________________________________________________________________________________\n",
      "bn2c_branch2a (BatchNormalizati (None, None, None, 6 256         res2c_branch2a[0][0]             \n",
      "__________________________________________________________________________________________________\n",
      "activation_56 (Activation)      (None, None, None, 6 0           bn2c_branch2a[0][0]              \n",
      "__________________________________________________________________________________________________\n",
      "res2c_branch2b (Conv2D)         (None, None, None, 6 36928       activation_56[0][0]              \n",
      "__________________________________________________________________________________________________\n",
      "bn2c_branch2b (BatchNormalizati (None, None, None, 6 256         res2c_branch2b[0][0]             \n",
      "__________________________________________________________________________________________________\n",
      "activation_57 (Activation)      (None, None, None, 6 0           bn2c_branch2b[0][0]              \n",
      "__________________________________________________________________________________________________\n",
      "res2c_branch2c (Conv2D)         (None, None, None, 2 16640       activation_57[0][0]              \n",
      "__________________________________________________________________________________________________\n",
      "bn2c_branch2c (BatchNormalizati (None, None, None, 2 1024        res2c_branch2c[0][0]             \n",
      "__________________________________________________________________________________________________\n",
      "add_18 (Add)                    (None, None, None, 2 0           bn2c_branch2c[0][0]              \n",
      "                                                                 activation_55[0][0]              \n",
      "__________________________________________________________________________________________________\n",
      "activation_58 (Activation)      (None, None, None, 2 0           add_18[0][0]                     \n",
      "__________________________________________________________________________________________________\n",
      "res3a_branch2a (Conv2D)         (None, None, None, 1 32896       activation_58[0][0]              \n",
      "__________________________________________________________________________________________________\n",
      "bn3a_branch2a (BatchNormalizati (None, None, None, 1 512         res3a_branch2a[0][0]             \n",
      "__________________________________________________________________________________________________\n",
      "activation_59 (Activation)      (None, None, None, 1 0           bn3a_branch2a[0][0]              \n",
      "__________________________________________________________________________________________________\n",
      "res3a_branch2b (Conv2D)         (None, None, None, 1 147584      activation_59[0][0]              \n",
      "__________________________________________________________________________________________________\n",
      "bn3a_branch2b (BatchNormalizati (None, None, None, 1 512         res3a_branch2b[0][0]             \n",
      "__________________________________________________________________________________________________\n",
      "activation_60 (Activation)      (None, None, None, 1 0           bn3a_branch2b[0][0]              \n",
      "__________________________________________________________________________________________________\n",
      "res3a_branch2c (Conv2D)         (None, None, None, 5 66048       activation_60[0][0]              \n",
      "__________________________________________________________________________________________________\n",
      "res3a_branch1 (Conv2D)          (None, None, None, 5 131584      activation_58[0][0]              \n",
      "__________________________________________________________________________________________________\n",
      "bn3a_branch2c (BatchNormalizati (None, None, None, 5 2048        res3a_branch2c[0][0]             \n",
      "__________________________________________________________________________________________________\n",
      "bn3a_branch1 (BatchNormalizatio (None, None, None, 5 2048        res3a_branch1[0][0]              \n",
      "__________________________________________________________________________________________________\n",
      "add_19 (Add)                    (None, None, None, 5 0           bn3a_branch2c[0][0]              \n",
      "                                                                 bn3a_branch1[0][0]               \n",
      "__________________________________________________________________________________________________\n",
      "activation_61 (Activation)      (None, None, None, 5 0           add_19[0][0]                     \n",
      "__________________________________________________________________________________________________\n",
      "res3b_branch2a (Conv2D)         (None, None, None, 1 65664       activation_61[0][0]              \n",
      "__________________________________________________________________________________________________\n",
      "bn3b_branch2a (BatchNormalizati (None, None, None, 1 512         res3b_branch2a[0][0]             \n",
      "__________________________________________________________________________________________________\n",
      "activation_62 (Activation)      (None, None, None, 1 0           bn3b_branch2a[0][0]              \n",
      "__________________________________________________________________________________________________\n",
      "res3b_branch2b (Conv2D)         (None, None, None, 1 147584      activation_62[0][0]              \n",
      "__________________________________________________________________________________________________\n",
      "bn3b_branch2b (BatchNormalizati (None, None, None, 1 512         res3b_branch2b[0][0]             \n",
      "__________________________________________________________________________________________________\n",
      "activation_63 (Activation)      (None, None, None, 1 0           bn3b_branch2b[0][0]              \n",
      "__________________________________________________________________________________________________\n",
      "res3b_branch2c (Conv2D)         (None, None, None, 5 66048       activation_63[0][0]              \n",
      "__________________________________________________________________________________________________\n",
      "bn3b_branch2c (BatchNormalizati (None, None, None, 5 2048        res3b_branch2c[0][0]             \n",
      "__________________________________________________________________________________________________\n",
      "add_20 (Add)                    (None, None, None, 5 0           bn3b_branch2c[0][0]              \n",
      "                                                                 activation_61[0][0]              \n",
      "__________________________________________________________________________________________________\n",
      "activation_64 (Activation)      (None, None, None, 5 0           add_20[0][0]                     \n",
      "__________________________________________________________________________________________________\n",
      "res3c_branch2a (Conv2D)         (None, None, None, 1 65664       activation_64[0][0]              \n",
      "__________________________________________________________________________________________________\n",
      "bn3c_branch2a (BatchNormalizati (None, None, None, 1 512         res3c_branch2a[0][0]             \n",
      "__________________________________________________________________________________________________\n",
      "activation_65 (Activation)      (None, None, None, 1 0           bn3c_branch2a[0][0]              \n",
      "__________________________________________________________________________________________________\n",
      "res3c_branch2b (Conv2D)         (None, None, None, 1 147584      activation_65[0][0]              \n",
      "__________________________________________________________________________________________________\n",
      "bn3c_branch2b (BatchNormalizati (None, None, None, 1 512         res3c_branch2b[0][0]             \n",
      "__________________________________________________________________________________________________\n",
      "activation_66 (Activation)      (None, None, None, 1 0           bn3c_branch2b[0][0]              \n",
      "__________________________________________________________________________________________________\n",
      "res3c_branch2c (Conv2D)         (None, None, None, 5 66048       activation_66[0][0]              \n",
      "__________________________________________________________________________________________________\n",
      "bn3c_branch2c (BatchNormalizati (None, None, None, 5 2048        res3c_branch2c[0][0]             \n",
      "__________________________________________________________________________________________________\n",
      "add_21 (Add)                    (None, None, None, 5 0           bn3c_branch2c[0][0]              \n",
      "                                                                 activation_64[0][0]              \n",
      "__________________________________________________________________________________________________\n",
      "activation_67 (Activation)      (None, None, None, 5 0           add_21[0][0]                     \n",
      "__________________________________________________________________________________________________\n",
      "res3d_branch2a (Conv2D)         (None, None, None, 1 65664       activation_67[0][0]              \n",
      "__________________________________________________________________________________________________\n",
      "bn3d_branch2a (BatchNormalizati (None, None, None, 1 512         res3d_branch2a[0][0]             \n",
      "__________________________________________________________________________________________________\n",
      "activation_68 (Activation)      (None, None, None, 1 0           bn3d_branch2a[0][0]              \n",
      "__________________________________________________________________________________________________\n",
      "res3d_branch2b (Conv2D)         (None, None, None, 1 147584      activation_68[0][0]              \n",
      "__________________________________________________________________________________________________\n",
      "bn3d_branch2b (BatchNormalizati (None, None, None, 1 512         res3d_branch2b[0][0]             \n",
      "__________________________________________________________________________________________________\n",
      "activation_69 (Activation)      (None, None, None, 1 0           bn3d_branch2b[0][0]              \n",
      "__________________________________________________________________________________________________\n",
      "res3d_branch2c (Conv2D)         (None, None, None, 5 66048       activation_69[0][0]              \n",
      "__________________________________________________________________________________________________\n",
      "bn3d_branch2c (BatchNormalizati (None, None, None, 5 2048        res3d_branch2c[0][0]             \n",
      "__________________________________________________________________________________________________\n",
      "add_22 (Add)                    (None, None, None, 5 0           bn3d_branch2c[0][0]              \n",
      "                                                                 activation_67[0][0]              \n",
      "__________________________________________________________________________________________________\n",
      "activation_70 (Activation)      (None, None, None, 5 0           add_22[0][0]                     \n",
      "__________________________________________________________________________________________________\n",
      "res4a_branch2a (Conv2D)         (None, None, None, 2 131328      activation_70[0][0]              \n",
      "__________________________________________________________________________________________________\n",
      "bn4a_branch2a (BatchNormalizati (None, None, None, 2 1024        res4a_branch2a[0][0]             \n",
      "__________________________________________________________________________________________________\n",
      "activation_71 (Activation)      (None, None, None, 2 0           bn4a_branch2a[0][0]              \n",
      "__________________________________________________________________________________________________\n",
      "res4a_branch2b (Conv2D)         (None, None, None, 2 590080      activation_71[0][0]              \n",
      "__________________________________________________________________________________________________\n",
      "bn4a_branch2b (BatchNormalizati (None, None, None, 2 1024        res4a_branch2b[0][0]             \n",
      "__________________________________________________________________________________________________\n",
      "activation_72 (Activation)      (None, None, None, 2 0           bn4a_branch2b[0][0]              \n",
      "__________________________________________________________________________________________________\n",
      "res4a_branch2c (Conv2D)         (None, None, None, 1 263168      activation_72[0][0]              \n",
      "__________________________________________________________________________________________________\n",
      "res4a_branch1 (Conv2D)          (None, None, None, 1 525312      activation_70[0][0]              \n",
      "__________________________________________________________________________________________________\n",
      "bn4a_branch2c (BatchNormalizati (None, None, None, 1 4096        res4a_branch2c[0][0]             \n",
      "__________________________________________________________________________________________________\n",
      "bn4a_branch1 (BatchNormalizatio (None, None, None, 1 4096        res4a_branch1[0][0]              \n",
      "__________________________________________________________________________________________________\n",
      "add_23 (Add)                    (None, None, None, 1 0           bn4a_branch2c[0][0]              \n",
      "                                                                 bn4a_branch1[0][0]               \n",
      "__________________________________________________________________________________________________\n",
      "activation_73 (Activation)      (None, None, None, 1 0           add_23[0][0]                     \n",
      "__________________________________________________________________________________________________\n",
      "res4b_branch2a (Conv2D)         (None, None, None, 2 262400      activation_73[0][0]              \n",
      "__________________________________________________________________________________________________\n",
      "bn4b_branch2a (BatchNormalizati (None, None, None, 2 1024        res4b_branch2a[0][0]             \n",
      "__________________________________________________________________________________________________\n",
      "activation_74 (Activation)      (None, None, None, 2 0           bn4b_branch2a[0][0]              \n",
      "__________________________________________________________________________________________________\n",
      "res4b_branch2b (Conv2D)         (None, None, None, 2 590080      activation_74[0][0]              \n",
      "__________________________________________________________________________________________________\n",
      "bn4b_branch2b (BatchNormalizati (None, None, None, 2 1024        res4b_branch2b[0][0]             \n",
      "__________________________________________________________________________________________________\n",
      "activation_75 (Activation)      (None, None, None, 2 0           bn4b_branch2b[0][0]              \n",
      "__________________________________________________________________________________________________\n",
      "res4b_branch2c (Conv2D)         (None, None, None, 1 263168      activation_75[0][0]              \n",
      "__________________________________________________________________________________________________\n",
      "bn4b_branch2c (BatchNormalizati (None, None, None, 1 4096        res4b_branch2c[0][0]             \n",
      "__________________________________________________________________________________________________\n",
      "add_24 (Add)                    (None, None, None, 1 0           bn4b_branch2c[0][0]              \n",
      "                                                                 activation_73[0][0]              \n",
      "__________________________________________________________________________________________________\n",
      "activation_76 (Activation)      (None, None, None, 1 0           add_24[0][0]                     \n",
      "__________________________________________________________________________________________________\n",
      "res4c_branch2a (Conv2D)         (None, None, None, 2 262400      activation_76[0][0]              \n",
      "__________________________________________________________________________________________________\n",
      "bn4c_branch2a (BatchNormalizati (None, None, None, 2 1024        res4c_branch2a[0][0]             \n",
      "__________________________________________________________________________________________________\n",
      "activation_77 (Activation)      (None, None, None, 2 0           bn4c_branch2a[0][0]              \n",
      "__________________________________________________________________________________________________\n",
      "res4c_branch2b (Conv2D)         (None, None, None, 2 590080      activation_77[0][0]              \n",
      "__________________________________________________________________________________________________\n",
      "bn4c_branch2b (BatchNormalizati (None, None, None, 2 1024        res4c_branch2b[0][0]             \n",
      "__________________________________________________________________________________________________\n",
      "activation_78 (Activation)      (None, None, None, 2 0           bn4c_branch2b[0][0]              \n",
      "__________________________________________________________________________________________________\n",
      "res4c_branch2c (Conv2D)         (None, None, None, 1 263168      activation_78[0][0]              \n",
      "__________________________________________________________________________________________________\n",
      "bn4c_branch2c (BatchNormalizati (None, None, None, 1 4096        res4c_branch2c[0][0]             \n",
      "__________________________________________________________________________________________________\n",
      "add_25 (Add)                    (None, None, None, 1 0           bn4c_branch2c[0][0]              \n",
      "                                                                 activation_76[0][0]              \n",
      "__________________________________________________________________________________________________\n",
      "activation_79 (Activation)      (None, None, None, 1 0           add_25[0][0]                     \n",
      "__________________________________________________________________________________________________\n",
      "res4d_branch2a (Conv2D)         (None, None, None, 2 262400      activation_79[0][0]              \n",
      "__________________________________________________________________________________________________\n",
      "bn4d_branch2a (BatchNormalizati (None, None, None, 2 1024        res4d_branch2a[0][0]             \n",
      "__________________________________________________________________________________________________\n",
      "activation_80 (Activation)      (None, None, None, 2 0           bn4d_branch2a[0][0]              \n",
      "__________________________________________________________________________________________________\n",
      "res4d_branch2b (Conv2D)         (None, None, None, 2 590080      activation_80[0][0]              \n",
      "__________________________________________________________________________________________________\n",
      "bn4d_branch2b (BatchNormalizati (None, None, None, 2 1024        res4d_branch2b[0][0]             \n",
      "__________________________________________________________________________________________________\n",
      "activation_81 (Activation)      (None, None, None, 2 0           bn4d_branch2b[0][0]              \n",
      "__________________________________________________________________________________________________\n",
      "res4d_branch2c (Conv2D)         (None, None, None, 1 263168      activation_81[0][0]              \n",
      "__________________________________________________________________________________________________\n",
      "bn4d_branch2c (BatchNormalizati (None, None, None, 1 4096        res4d_branch2c[0][0]             \n",
      "__________________________________________________________________________________________________\n",
      "add_26 (Add)                    (None, None, None, 1 0           bn4d_branch2c[0][0]              \n",
      "                                                                 activation_79[0][0]              \n",
      "__________________________________________________________________________________________________\n",
      "activation_82 (Activation)      (None, None, None, 1 0           add_26[0][0]                     \n",
      "__________________________________________________________________________________________________\n",
      "res4e_branch2a (Conv2D)         (None, None, None, 2 262400      activation_82[0][0]              \n",
      "__________________________________________________________________________________________________\n",
      "bn4e_branch2a (BatchNormalizati (None, None, None, 2 1024        res4e_branch2a[0][0]             \n",
      "__________________________________________________________________________________________________\n",
      "activation_83 (Activation)      (None, None, None, 2 0           bn4e_branch2a[0][0]              \n",
      "__________________________________________________________________________________________________\n",
      "res4e_branch2b (Conv2D)         (None, None, None, 2 590080      activation_83[0][0]              \n",
      "__________________________________________________________________________________________________\n",
      "bn4e_branch2b (BatchNormalizati (None, None, None, 2 1024        res4e_branch2b[0][0]             \n",
      "__________________________________________________________________________________________________\n",
      "activation_84 (Activation)      (None, None, None, 2 0           bn4e_branch2b[0][0]              \n",
      "__________________________________________________________________________________________________\n",
      "res4e_branch2c (Conv2D)         (None, None, None, 1 263168      activation_84[0][0]              \n",
      "__________________________________________________________________________________________________\n",
      "bn4e_branch2c (BatchNormalizati (None, None, None, 1 4096        res4e_branch2c[0][0]             \n",
      "__________________________________________________________________________________________________\n",
      "add_27 (Add)                    (None, None, None, 1 0           bn4e_branch2c[0][0]              \n",
      "                                                                 activation_82[0][0]              \n",
      "__________________________________________________________________________________________________\n",
      "activation_85 (Activation)      (None, None, None, 1 0           add_27[0][0]                     \n",
      "__________________________________________________________________________________________________\n",
      "res4f_branch2a (Conv2D)         (None, None, None, 2 262400      activation_85[0][0]              \n",
      "__________________________________________________________________________________________________\n",
      "bn4f_branch2a (BatchNormalizati (None, None, None, 2 1024        res4f_branch2a[0][0]             \n",
      "__________________________________________________________________________________________________\n",
      "activation_86 (Activation)      (None, None, None, 2 0           bn4f_branch2a[0][0]              \n",
      "__________________________________________________________________________________________________\n",
      "res4f_branch2b (Conv2D)         (None, None, None, 2 590080      activation_86[0][0]              \n",
      "__________________________________________________________________________________________________\n",
      "bn4f_branch2b (BatchNormalizati (None, None, None, 2 1024        res4f_branch2b[0][0]             \n",
      "__________________________________________________________________________________________________\n",
      "activation_87 (Activation)      (None, None, None, 2 0           bn4f_branch2b[0][0]              \n",
      "__________________________________________________________________________________________________\n",
      "res4f_branch2c (Conv2D)         (None, None, None, 1 263168      activation_87[0][0]              \n",
      "__________________________________________________________________________________________________\n",
      "bn4f_branch2c (BatchNormalizati (None, None, None, 1 4096        res4f_branch2c[0][0]             \n",
      "__________________________________________________________________________________________________\n",
      "add_28 (Add)                    (None, None, None, 1 0           bn4f_branch2c[0][0]              \n",
      "                                                                 activation_85[0][0]              \n",
      "__________________________________________________________________________________________________\n",
      "activation_88 (Activation)      (None, None, None, 1 0           add_28[0][0]                     \n",
      "__________________________________________________________________________________________________\n",
      "res5a_branch2a (Conv2D)         (None, None, None, 5 524800      activation_88[0][0]              \n",
      "__________________________________________________________________________________________________\n",
      "bn5a_branch2a (BatchNormalizati (None, None, None, 5 2048        res5a_branch2a[0][0]             \n",
      "__________________________________________________________________________________________________\n",
      "activation_89 (Activation)      (None, None, None, 5 0           bn5a_branch2a[0][0]              \n",
      "__________________________________________________________________________________________________\n",
      "res5a_branch2b (Conv2D)         (None, None, None, 5 2359808     activation_89[0][0]              \n",
      "__________________________________________________________________________________________________\n",
      "bn5a_branch2b (BatchNormalizati (None, None, None, 5 2048        res5a_branch2b[0][0]             \n",
      "__________________________________________________________________________________________________\n",
      "activation_90 (Activation)      (None, None, None, 5 0           bn5a_branch2b[0][0]              \n",
      "__________________________________________________________________________________________________\n",
      "res5a_branch2c (Conv2D)         (None, None, None, 2 1050624     activation_90[0][0]              \n",
      "__________________________________________________________________________________________________\n",
      "res5a_branch1 (Conv2D)          (None, None, None, 2 2099200     activation_88[0][0]              \n",
      "__________________________________________________________________________________________________\n",
      "bn5a_branch2c (BatchNormalizati (None, None, None, 2 8192        res5a_branch2c[0][0]             \n",
      "__________________________________________________________________________________________________\n",
      "bn5a_branch1 (BatchNormalizatio (None, None, None, 2 8192        res5a_branch1[0][0]              \n",
      "__________________________________________________________________________________________________\n",
      "add_29 (Add)                    (None, None, None, 2 0           bn5a_branch2c[0][0]              \n",
      "                                                                 bn5a_branch1[0][0]               \n",
      "__________________________________________________________________________________________________\n",
      "activation_91 (Activation)      (None, None, None, 2 0           add_29[0][0]                     \n",
      "__________________________________________________________________________________________________\n",
      "res5b_branch2a (Conv2D)         (None, None, None, 5 1049088     activation_91[0][0]              \n",
      "__________________________________________________________________________________________________\n",
      "bn5b_branch2a (BatchNormalizati (None, None, None, 5 2048        res5b_branch2a[0][0]             \n",
      "__________________________________________________________________________________________________\n",
      "activation_92 (Activation)      (None, None, None, 5 0           bn5b_branch2a[0][0]              \n",
      "__________________________________________________________________________________________________\n",
      "res5b_branch2b (Conv2D)         (None, None, None, 5 2359808     activation_92[0][0]              \n",
      "__________________________________________________________________________________________________\n",
      "bn5b_branch2b (BatchNormalizati (None, None, None, 5 2048        res5b_branch2b[0][0]             \n",
      "__________________________________________________________________________________________________\n",
      "activation_93 (Activation)      (None, None, None, 5 0           bn5b_branch2b[0][0]              \n",
      "__________________________________________________________________________________________________\n",
      "res5b_branch2c (Conv2D)         (None, None, None, 2 1050624     activation_93[0][0]              \n",
      "__________________________________________________________________________________________________\n",
      "bn5b_branch2c (BatchNormalizati (None, None, None, 2 8192        res5b_branch2c[0][0]             \n",
      "__________________________________________________________________________________________________\n",
      "add_30 (Add)                    (None, None, None, 2 0           bn5b_branch2c[0][0]              \n",
      "                                                                 activation_91[0][0]              \n",
      "__________________________________________________________________________________________________\n",
      "activation_94 (Activation)      (None, None, None, 2 0           add_30[0][0]                     \n",
      "__________________________________________________________________________________________________\n",
      "res5c_branch2a (Conv2D)         (None, None, None, 5 1049088     activation_94[0][0]              \n",
      "__________________________________________________________________________________________________\n",
      "bn5c_branch2a (BatchNormalizati (None, None, None, 5 2048        res5c_branch2a[0][0]             \n",
      "__________________________________________________________________________________________________\n",
      "activation_95 (Activation)      (None, None, None, 5 0           bn5c_branch2a[0][0]              \n",
      "__________________________________________________________________________________________________\n",
      "res5c_branch2b (Conv2D)         (None, None, None, 5 2359808     activation_95[0][0]              \n",
      "__________________________________________________________________________________________________\n",
      "bn5c_branch2b (BatchNormalizati (None, None, None, 5 2048        res5c_branch2b[0][0]             \n",
      "__________________________________________________________________________________________________\n",
      "activation_96 (Activation)      (None, None, None, 5 0           bn5c_branch2b[0][0]              \n",
      "__________________________________________________________________________________________________\n",
      "res5c_branch2c (Conv2D)         (None, None, None, 2 1050624     activation_96[0][0]              \n",
      "__________________________________________________________________________________________________\n",
      "bn5c_branch2c (BatchNormalizati (None, None, None, 2 8192        res5c_branch2c[0][0]             \n",
      "__________________________________________________________________________________________________\n",
      "add_31 (Add)                    (None, None, None, 2 0           bn5c_branch2c[0][0]              \n",
      "                                                                 activation_94[0][0]              \n",
      "__________________________________________________________________________________________________\n",
      "activation_97 (Activation)      (None, None, None, 2 0           add_31[0][0]                     \n",
      "__________________________________________________________________________________________________\n",
      "global_average_pooling2d_1 (Glo (None, 2048)         0           activation_97[0][0]              \n",
      "__________________________________________________________________________________________________\n",
      "dense_1 (Dense)                 (None, 1)            2049        global_average_pooling2d_1[0][0] \n",
      "==================================================================================================\n",
      "Total params: 23,589,761\n",
      "Trainable params: 23,536,641\n",
      "Non-trainable params: 53,120\n",
      "__________________________________________________________________________________________________\n"
     ]
    }
   ],
   "source": [
    "model.summary()"
   ]
  },
  {
   "cell_type": "markdown",
   "metadata": {},
   "source": [
    "#### 4.2 : Initializing the optimizer and loss function"
   ]
  },
  {
   "cell_type": "code",
   "execution_count": 47,
   "metadata": {},
   "outputs": [
    {
     "name": "stdout",
     "output_type": "stream",
     "text": [
      "Class weight {0: 1, 1: 1.0}\n"
     ]
    }
   ],
   "source": [
    "for layer in base_model.layers:\n",
    "    layer.trainable = False\n",
    "#specify the optimizer and loss function    \n",
    "optimizer = keras.optimizers.Adam(lr=0.01, decay=0.01)\n",
    "model.compile(loss=\"binary_crossentropy\", optimizer=optimizer, metrics=[\"accuracy\"])\n",
    "#the ratio of the class weight is computed to offset possible bias due to unbalanced dataset\n",
    "class_weight = {0:1, 1:(m_train_c1/m_train_c2)}\n",
    "print(\"Class weight\", class_weight)"
   ]
  },
  {
   "cell_type": "markdown",
   "metadata": {},
   "source": [
    "#### 4.3 : Start training\n",
    "#### (Modify the epochs and batch as required to obtain desired results)"
   ]
  },
  {
   "cell_type": "code",
   "execution_count": 48,
   "metadata": {},
   "outputs": [
    {
     "name": "stdout",
     "output_type": "stream",
     "text": [
      "Training on an imbalanced ratio\n",
      "Train on 4 samples, validate on 2 samples\n",
      "Epoch 1/10\n",
      "4/4 [==============================] - 2s 468ms/sample - loss: 0.7453 - acc: 0.5000 - val_loss: 1.4864 - val_acc: 0.5000\n",
      "Epoch 2/10\n",
      "4/4 [==============================] - 0s 79ms/sample - loss: 0.8309 - acc: 0.5000 - val_loss: 0.5281 - val_acc: 1.0000\n",
      "Epoch 3/10\n",
      "4/4 [==============================] - 0s 77ms/sample - loss: 0.0677 - acc: 1.0000 - val_loss: 1.4383 - val_acc: 0.5000\n",
      "Epoch 4/10\n",
      "4/4 [==============================] - 0s 104ms/sample - loss: 0.0138 - acc: 1.0000 - val_loss: 2.6272 - val_acc: 0.5000\n",
      "Epoch 5/10\n",
      "4/4 [==============================] - 0s 100ms/sample - loss: 0.0254 - acc: 1.0000 - val_loss: 3.5003 - val_acc: 0.5000\n",
      "Epoch 6/10\n",
      "4/4 [==============================] - 0s 95ms/sample - loss: 0.0385 - acc: 1.0000 - val_loss: 4.0282 - val_acc: 0.5000\n",
      "Epoch 7/10\n",
      "4/4 [==============================] - 0s 80ms/sample - loss: 0.0367 - acc: 1.0000 - val_loss: 4.2854 - val_acc: 0.5000\n",
      "Epoch 8/10\n",
      "4/4 [==============================] - 0s 78ms/sample - loss: 0.0241 - acc: 1.0000 - val_loss: 4.3813 - val_acc: 0.5000\n",
      "Epoch 9/10\n",
      "4/4 [==============================] - 0s 78ms/sample - loss: 0.0130 - acc: 1.0000 - val_loss: 4.3967 - val_acc: 0.5000\n",
      "Epoch 10/10\n",
      "4/4 [==============================] - 0s 76ms/sample - loss: 0.0066 - acc: 1.0000 - val_loss: 4.3754 - val_acc: 0.5000\n"
     ]
    }
   ],
   "source": [
    "try:\n",
    "    class_weight\n",
    "    print(\"Training on an imbalanced ratio\")\n",
    "    history = model.fit(x=train_images, y=train_labels,\n",
    "                    validation_data=(valid_images, valid_labels),\n",
    "                    epochs=10, batch_size=64, class_weight=class_weight)\n",
    "except NameError:\n",
    "    print(\"Training on 1:1 ratio\")\n",
    "    history = model.fit(x=train_images, y=train_labels,\n",
    "                validation_data=([valid_images, valid_labels]),\n",
    "                epochs=10, batch_size=64)"
   ]
  },
  {
   "cell_type": "code",
   "execution_count": 49,
   "metadata": {},
   "outputs": [
    {
     "data": {
      "image/png": "[encoded data removed]",
      "text/plain": [
       "<Figure size 432x288 with 1 Axes>"
      ]
     },
     "metadata": {
      "needs_background": "light"
     },
     "output_type": "display_data"
    },
    {
     "data": {
      "image/png": "[encoded data removed]",
      "text/plain": [
       "<Figure size 432x288 with 1 Axes>"
      ]
     },
     "metadata": {
      "needs_background": "light"
     },
     "output_type": "display_data"
    }
   ],
   "source": [
    "#Loss\n",
    "plt.plot(history.history['loss'],label='loss')\n",
    "plt.plot(history.history['val_loss'],label='val_loss')\n",
    "plt.legend()\n",
    "plt.show()\n",
    "#Accuracy\n",
    "plt.plot(history.history['acc'],label='acc')\n",
    "plt.plot(history.history['val_acc'],label='val_acc')\n",
    "plt.legend()\n",
    "plt.show()"
   ]
  },
  {
   "cell_type": "code",
   "execution_count": null,
   "metadata": {},
   "outputs": [],
   "source": [
    "#for layer in base_model.layers:\n",
    "#    layer.trainable = True\n",
    "    \n",
    "#optimizer = keras.optimizers.Adam(lr=0.01, decay=0.01)\n",
    "#model.compile(loss=\"binary_crossentropy\", optimizer=optimizer, metrics=[\"accuracy\"])"
   ]
  },
  {
   "cell_type": "code",
   "execution_count": null,
   "metadata": {
    "scrolled": true
   },
   "outputs": [],
   "source": [
    "# try:\n",
    "#     class_weight\n",
    "#     print(\"Training on an imbalanced ratio\")\n",
    "#     history = model.fit(x=train_images, y=train_labels,\n",
    "#                     validation_data=(valid_images, valid_labels),\n",
    "#                     epochs=5, batch_size=None, class_weight=class_weight)\n",
    "# except NameError:\n",
    "#     print(\"Training on 1:1 ratio\")\n",
    "#     history = model.fit(x=train_images, y=train_labels,\n",
    "#                 validation_data=([valid_images, valid_labels]),\n",
    "#                 epochs=1, batch_size=64)"
   ]
  },
  {
   "cell_type": "markdown",
   "metadata": {},
   "source": [
    "#### 4.4 : Test the resulting model"
   ]
  },
  {
   "cell_type": "code",
   "execution_count": 50,
   "metadata": {},
   "outputs": [
    {
     "name": "stdout",
     "output_type": "stream",
     "text": [
      "2/2 [==============================] - 0s 58ms/sample - loss: 4.2536 - acc: 0.5000\n",
      "[1 0]\n",
      "[4.253607273101807, 0.5]\n"
     ]
    }
   ],
   "source": [
    "#Test the resulting model on the test set to get evaluate the accuracy (I have obtained accuracies of up to 90% on a defect detection task)\n",
    "res = model.evaluate(test_images, test_labels)\n",
    "print(test_labels)\n",
    "#plt.imshow(valid_images[8], cmap='gray')\n",
    "print(res)"
   ]
  },
  {
   "cell_type": "markdown",
   "metadata": {},
   "source": [
    "#### 4.5 : Save the model\n",
    "#### The below code saves the trained weights to the /weights folder"
   ]
  },
  {
   "cell_type": "code",
   "execution_count": 51,
   "metadata": {},
   "outputs": [
    {
     "name": "stdout",
     "output_type": "stream",
     "text": [
      "creating directories...\n",
      "done..\n"
     ]
    }
   ],
   "source": [
    "date_time = datetime.today().strftime(\"%Y%m%d_%H%M\")\n",
    "\n",
    "str_val_loss = str(history.history[\"val_loss\"][-1]).split('.')[-1][:5]\n",
    "str_val_acc = str(history.history[\"val_acc\"][-1]).split('.')[-1][:5]\n",
    "\n",
    "try:\n",
    "    os.makedirs(\"./models\")\n",
    "    os.makedirs(\"./weights\")\n",
    "    print(\"creating directories...\")\n",
    "    model.save(\"models/ResNet50_\" + date_time + \"_ValLoss_\" + str_val_loss + \"_ValAcc_\" + str_val_acc + \"_yourcomment.h5\")\n",
    "    model.save_weights(\"weights/ResNet50_\" + date_time + \"_ValLoss_\" + str_val_loss + \"_ValAcc_\" + str_val_acc + \"yourcomment.h5\")\n",
    "except:\n",
    "    print(\"folder exists...\")\n",
    "    model.save(\"models/ResNet50_\" + date_time + \"_ValLoss_\" + str_val_loss + \"_ValAcc_\" + str_val_acc + \"_yourcomment.h5\")\n",
    "    model.save_weights(\"weights/ResNet50_\" + date_time + \"_ValLoss_\" + str_val_loss + \"_ValAcc_\" + str_val_acc + \"yourcomment.h5\")\n",
    "\n",
    "print(\"done..\")"
   ]
  },
  {
   "cell_type": "markdown",
   "metadata": {},
   "source": [
    "# 5.0: Manual Testing on local images (Classifier)\n",
    "---\n",
    "#### The below code will load the model and perform classification.\n",
    "#### When prompted choose a folder that contains new images that was not used for training or ...... it up to you. (Prompt defaults to the recording folder in the repo.)\n",
    "#### A random dataset folder with mixed data from the two classes\n",
    "#### The codes below will perform classification according to the required threshold* and classifiy the images\n",
    "#### The classified images will be stored in respective folders with the \"./inspection folder\""
   ]
  },
  {
   "cell_type": "markdown",
   "metadata": {},
   "source": [
    "#### 5.1: Load the models for inference "
   ]
  },
  {
   "cell_type": "code",
   "execution_count": 52,
   "metadata": {},
   "outputs": [
    {
     "name": "stdout",
     "output_type": "stream",
     "text": [
      "Model loaded succesfully - Ignore deprecation warnings\n"
     ]
    }
   ],
   "source": [
    "#Load the models\n",
    "root = tk.Tk()\n",
    "model_path = tkinter.filedialog.askopenfilename(title=\"Choose a model\",\n",
    "                                                          initialdir=\"./models\")\n",
    "root.destroy()\n",
    "loaded_model = keras.models.load_model(model_path)\n",
    "print(\"Model loaded succesfully - Ignore deprecation warnings\")"
   ]
  },
  {
   "cell_type": "markdown",
   "metadata": {},
   "source": [
    "#### 5.2: Perform inference "
   ]
  },
  {
   "cell_type": "code",
   "execution_count": 53,
   "metadata": {},
   "outputs": [
    {
     "name": "stdout",
     "output_type": "stream",
     "text": [
      "Processing ...\n",
      "Done!\n"
     ]
    }
   ],
   "source": [
    "root = tk.Tk()\n",
    "online_test_folder = tkinter.filedialog.askdirectory(title=\"Select the folder containing the images\",\n",
    "                     initialdir=\"./recordings\")\n",
    "root.destroy()\n",
    "\n",
    "threshold = 0.5\n",
    "X_online_test = []\n",
    "print(\"Processing ...\")\n",
    "\n",
    "for i, img_file in enumerate(os.listdir(online_test_folder)):\n",
    "    if img_file == \"classified\":\n",
    "        continue\n",
    "\n",
    "    img_path = os.path.join(online_test_folder, img_file)\n",
    "    test_img = cv2.imread(img_path)\n",
    "    \n",
    "    if test_img is None:\n",
    "        print(img_path)\n",
    "        continue\n",
    "        \n",
    "    test_img_rgb = cv2.cvtColor(test_img, cv2.COLOR_BGR2RGB)\n",
    "    style=\"square\"\n",
    "    finalized_img = process_grayscale(test_img_rgb, style=style)\n",
    "    X_online_test.append(finalized_img)\n",
    "    \n",
    "\n",
    "images_online_test = np.array(X_online_test, dtype=float)\n",
    "images_online_test_copy = images_online_test.copy()\n",
    "processed_images_online_test = keras.applications.resnet50.preprocess_input(images_online_test_copy)\n",
    "print(\"Done!\")"
   ]
  },
  {
   "cell_type": "markdown",
   "metadata": {},
   "source": [
    "#### 5.3: Output Inference results "
   ]
  },
  {
   "cell_type": "code",
   "execution_count": 54,
   "metadata": {},
   "outputs": [
    {
     "name": "stdout",
     "output_type": "stream",
     "text": [
      " ..\n",
      "\n",
      "4 0\n",
      "Out of 4 images\n",
      "0.00 were Class1 (0 images)\n",
      "100.00 were Class2 (4 images)\n",
      "\n",
      "\n",
      "Done!\n"
     ]
    }
   ],
   "source": [
    "print(\" ..\\n\")\n",
    "predictions = np.squeeze(loaded_model.predict(processed_images_online_test))\n",
    "\n",
    "\n",
    "c1_online_test = images_online_test[predictions < threshold]\n",
    "c2_online_test = images_online_test[predictions >= threshold]\n",
    "# print(predictions)\n",
    "\n",
    "print(np.sum(predictions > 0.5), np.sum(predictions <=0.5))\n",
    "percent_c1_online_test = round(c1_online_test.shape[0] / images_online_test.shape[0], 2) * 100\n",
    "percent_c2_online_test = round(c2_online_test.shape[0] / images_online_test.shape[0], 2) * 100\n",
    "print(f\"\"\"Out of {images_online_test.shape[0]} images\n",
    "{(percent_c1_online_test):.2f} were Class1 ({c1_online_test.shape[0]} images)\n",
    "{percent_c2_online_test:.2f} were Class2 ({c2_online_test.shape[0]} images)\"\"\")\n",
    "\n",
    "print(\"\\n\\nDone!\")"
   ]
  },
  {
   "cell_type": "markdown",
   "metadata": {},
   "source": [
    "#### 5.4: Store the classified images into their respective folder for manual evaluation"
   ]
  },
  {
   "cell_type": "code",
   "execution_count": 55,
   "metadata": {},
   "outputs": [],
   "source": [
    "pwd = os.getcwd()\n",
    "date_time = datetime.today().strftime(\"%Y%m%d_%H%M\")\n",
    "tr_val_loss = str(history.history[\"val_loss\"][-1]).split('.')[-1][:5]\n",
    "str_val_acc = str(history.history[\"val_acc\"][-1]).split('.')[-1][:5]\n",
    "\n",
    "\n",
    "dir_path = os.path.join(pwd, \"inspection\")\n",
    "dir_path = os.path.join(dir_path, \"ResNet50_100Test_\" + date_time + \"_ValLoss_\" + str_val_loss + \"_ValAcc_\" + str_val_acc)\n",
    "c1_path = os.path.join(dir_path, \"class1_\" + str(threshold))\n",
    "c2_path = os.path.join(dir_path, \"class2_\" + str(threshold))\n",
    "\n",
    "# dir_path = os.path.join(pwd, \"ResNet50_20200917_1224_ValLoss_01220_ValAcc_995\")"
   ]
  },
  {
   "cell_type": "code",
   "execution_count": 56,
   "metadata": {},
   "outputs": [],
   "source": [
    "#Store the first class/good into folder to identify misclassifications\n",
    "os.makedirs(c1_path)\n",
    "c1_preds = predictions[predictions < threshold]\n",
    "counter = 0\n",
    "for i_img, p_pred in zip(c1_online_test, c1_preds):\n",
    "    im_name = str(counter) + \"_\" + str(p_pred) + \".png\"\n",
    "    cv2.imwrite(os.path.join(c1_path, im_name), i_img)\n",
    "    counter += 1"
   ]
  },
  {
   "cell_type": "code",
   "execution_count": 57,
   "metadata": {},
   "outputs": [],
   "source": [
    "#Store the second class/defective into folder to identify misclassifications\n",
    "os.makedirs(c2_path)\n",
    "c2_preds = predictions[predictions >= threshold]\n",
    "counter = 0\n",
    "for i_img, p_pred in zip(c2_online_test, c2_preds):\n",
    "    im_name = str(counter) + \"_\" + str(p_pred) + \".png\"\n",
    "    cv2.imwrite(os.path.join(c2_path, im_name), i_img)\n",
    "    counter += 1"
   ]
  },
  {
   "cell_type": "markdown",
   "metadata": {},
   "source": [
    "# END OF NOTEBOOK"
   ]
  }
 ],
 "metadata": {
  "kernelspec": {
   "display_name": "Python 3",
   "language": "python",
   "name": "python3"
  },
  "language_info": {
   "codemirror_mode": {
    "name": "ipython",
    "version": 3
   },
   "file_extension": ".py",
   "mimetype": "text/x-python",
   "name": "python",
   "nbconvert_exporter": "python",
   "pygments_lexer": "ipython3",
   "version": "3.7.9"
  }
 },
 "nbformat": 4,
 "nbformat_minor": 4
}
